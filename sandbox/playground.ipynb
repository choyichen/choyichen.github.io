{
 "cells": [
  {
   "cell_type": "markdown",
   "metadata": {},
   "source": [
    "# Useful Notebook Tips"
   ]
  },
  {
   "cell_type": "markdown",
   "metadata": {},
   "source": [
    "#Markdown"
   ]
  },
  {
   "cell_type": "markdown",
   "metadata": {},
   "source": [
    "##Links"
   ]
  },
  {
   "cell_type": "markdown",
   "metadata": {},
   "source": [
    "    Link to local file: [ipynb_server.log](../ipynb_server.log)\n",
    "\n",
    "Link to local file: [ipynb_server.log](../ipynb_server.log)"
   ]
  },
  {
   "cell_type": "markdown",
   "metadata": {},
   "source": [
    "#HTML"
   ]
  },
  {
   "cell_type": "markdown",
   "metadata": {},
   "source": [
    "## Image"
   ]
  },
  {
   "cell_type": "markdown",
   "metadata": {},
   "source": [
    "    <img src=\"http://localhost:9999/static/base/images/logo.png\">\n",
    "\n",
    "<img src=\"http://localhost:9999/static/base/images/logo.png\">"
   ]
  },
  {
   "cell_type": "markdown",
   "metadata": {},
   "source": [
    "## iframe"
   ]
  },
  {
   "cell_type": "code",
   "execution_count": 1,
   "metadata": {
    "collapsed": false
   },
   "outputs": [
    {
     "data": {
      "text/html": [
       "<div style=\"width: 640px; height: 480px; margin: 10px; position: relative;\">\n",
       "<iframe allowfullscreen frameborder=\"0\" style=\"width:640px; height:480px\" src=\"https://www.lucidchart.com/documents/embeddedchart/4f4985a6-cbd5-4fae-9a1b-3c034ff9c240\" id=\"lJNHzmnSpHzf\"></iframe>\n",
       "</div>"
      ],
      "text/plain": [
       "<IPython.core.display.HTML object>"
      ]
     },
     "metadata": {},
     "output_type": "display_data"
    }
   ],
   "source": [
    "%%html\n",
    "<div style=\"width: 640px; height: 480px; margin: 10px; position: relative;\">\n",
    "<iframe allowfullscreen frameborder=\"0\" style=\"width:640px; height:480px\" src=\"https://www.lucidchart.com/documents/embeddedchart/4f4985a6-cbd5-4fae-9a1b-3c034ff9c240\" id=\"lJNHzmnSpHzf\"></iframe>\n",
    "</div>"
   ]
  },
  {
   "cell_type": "markdown",
   "metadata": {},
   "source": [
    "# Draw a table"
   ]
  },
  {
   "cell_type": "markdown",
   "metadata": {},
   "source": [
    "## By hand"
   ]
  },
  {
   "cell_type": "markdown",
   "metadata": {},
   "source": [
    "| Date       | Description |\n",
    "| ---------- | ----------- |\n",
    "| 2015/04/01 | Launched    |"
   ]
  },
  {
   "cell_type": "markdown",
   "metadata": {},
   "source": [
    "## By pandas"
   ]
  },
  {
   "cell_type": "markdown",
   "metadata": {},
   "source": [
    "Use pandas or try https://github.com/epmoyer/ipy_table"
   ]
  },
  {
   "cell_type": "code",
   "execution_count": 15,
   "metadata": {
    "collapsed": false
   },
   "outputs": [
    {
     "data": {
      "text/html": [
       "<div style=\"max-height:1000px;max-width:1500px;overflow:auto;\">\n",
       "<table border=\"1\" class=\"dataframe\">\n",
       "  <thead>\n",
       "    <tr style=\"text-align: right;\">\n",
       "      <th></th>\n",
       "      <th>Planet</th>\n",
       "      <th>Mass (kg)</th>\n",
       "      <th>Diameter (km)</th>\n",
       "    </tr>\n",
       "  </thead>\n",
       "  <tbody>\n",
       "    <tr>\n",
       "      <th>0</th>\n",
       "      <td> Mercury</td>\n",
       "      <td> 3.302200e+23</td>\n",
       "      <td>  4879</td>\n",
       "    </tr>\n",
       "    <tr>\n",
       "      <th>1</th>\n",
       "      <td>   Venus</td>\n",
       "      <td> 4.896000e+24</td>\n",
       "      <td> 12104</td>\n",
       "    </tr>\n",
       "    <tr>\n",
       "      <th>2</th>\n",
       "      <td>   Earth</td>\n",
       "      <td> 5.972000e+24</td>\n",
       "      <td> 12735</td>\n",
       "    </tr>\n",
       "    <tr>\n",
       "      <th>3</th>\n",
       "      <td>    Mars</td>\n",
       "      <td> 6.419100e+23</td>\n",
       "      <td>  6772</td>\n",
       "    </tr>\n",
       "  </tbody>\n",
       "</table>\n",
       "</div>"
      ],
      "text/plain": [
       "    Planet     Mass (kg)  Diameter (km)\n",
       "0  Mercury  3.302200e+23           4879\n",
       "1    Venus  4.896000e+24          12104\n",
       "2    Earth  5.972000e+24          12735\n",
       "3     Mars  6.419100e+23           6772"
      ]
     },
     "execution_count": 15,
     "metadata": {},
     "output_type": "execute_result"
    }
   ],
   "source": [
    "import pandas as pd\n",
    "columns = ['Planet', 'Mass (kg)', 'Diameter (km)']\n",
    "planets = [['Mercury', 3.3022E23, 4879],\n",
    "           ['Venus', 4.896E24, 12104],\n",
    "           ['Earth', 5.972E24, 12735],\n",
    "           ['Mars', 6.4191E23, 6772]]\n",
    "\n",
    "pd.DataFrame(planets, columns=columns)"
   ]
  },
  {
   "cell_type": "markdown",
   "metadata": {},
   "source": [
    "# Draw a flowchart"
   ]
  },
  {
   "cell_type": "markdown",
   "metadata": {},
   "source": [
    "Flowchart prepared by http://asciiflow.com/\n",
    "```ascii\n",
    " +--------+     +--------+                              \n",
    " | Input1 |     | Input2 |                              \n",
    " +---+----+     +---+----+                              \n",
    "     |              |                                   \n",
    "     +-------+------+                                   \n",
    "             |                                          \n",
    "     +-------v-------+                                  \n",
    "     | Main function |                                  \n",
    "     +---------------+                                  \n",
    "     |               |                                  \n",
    "+----v----+     +----v----+                             \n",
    "| Output1 |     | Output2 |                             \n",
    "+---------+     +---------+                             \n",
    "```"
   ]
  }
 ],
 "metadata": {
  "kernelspec": {
   "display_name": "Python 2",
   "language": "python",
   "name": "python2"
  },
  "language_info": {
   "codemirror_mode": {
    "name": "ipython",
    "version": 2
   },
   "file_extension": ".py",
   "mimetype": "text/x-python",
   "name": "python",
   "nbconvert_exporter": "python",
   "pygments_lexer": "ipython2",
   "version": "2.7.10"
  }
 },
 "nbformat": 4,
 "nbformat_minor": 0
}
